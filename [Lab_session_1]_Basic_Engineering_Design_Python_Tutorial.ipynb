{
  "nbformat": 4,
  "nbformat_minor": 0,
  "metadata": {
    "colab": {
      "provenance": [],
      "include_colab_link": true
    },
    "language_info": {
      "name": "python"
    },
    "kernelspec": {
      "name": "python3",
      "display_name": "Python 3"
    }
  },
  "cells": [
    {
      "cell_type": "markdown",
      "metadata": {
        "id": "view-in-github",
        "colab_type": "text"
      },
      "source": [
        "<a href=\"https://colab.research.google.com/github/Lily925/DAP/blob/main/%5BLab_session_1%5D_Basic_Engineering_Design_Python_Tutorial.ipynb\" target=\"_parent\"><img src=\"https://colab.research.google.com/assets/colab-badge.svg\" alt=\"Open In Colab\"/></a>"
      ]
    },
    {
      "cell_type": "markdown",
      "source": [
        "#Basic Engineering Design - Python Tutorial"
      ],
      "metadata": {
        "id": "Uq_v1RoHOJRw"
      }
    },
    {
      "cell_type": "markdown",
      "source": [
        "Adapted by [Volodymyr Kuleshov](http://web.stanford.edu/~kuleshov/) and [Isaac Caswell](https://symsys.stanford.edu/viewing/symsysaffiliate/21335) from the `CS231n` Python tutorial by Justin Johnson (http://cs231n.github.io/python-numpy-tutorial/)."
      ],
      "metadata": {
        "id": "7yvmwS-yOJRy"
      }
    },
    {
      "cell_type": "markdown",
      "source": [
        "##Introduction"
      ],
      "metadata": {
        "id": "1TmhkZ9TOJRy"
      }
    },
    {
      "cell_type": "markdown",
      "source": [
        "Python is a great general-purpose programming language on its own, but with the help of a few popular libraries (numpy, scipy, matplotlib) it becomes a powerful environment for scientific computing.\n",
        "\n",
        "We expect that many of you will have some experience with Python and numpy; for the rest of you, this section will serve as a quick crash course both on the Python programming language and on the use of Python for scientific computing.\n",
        "\n",
        "Some of you may have previous knowledge in Matlab, in which case we also recommend the numpy for Matlab users page (https://docs.scipy.org/doc/numpy-dev/user/numpy-for-matlab-users.html)."
      ],
      "metadata": {
        "id": "Xsrl1xkMOJRz"
      }
    },
    {
      "cell_type": "markdown",
      "source": [
        "In this tutorial, we will cover:\n",
        "\n",
        "* Basic Python: Basic data types (Containers, Lists, Dictionaries, Sets, Tuples), Functions, Classes\n",
        "* Numpy: Arrays, Array indexing, Datatypes, Array math, Broadcasting\n",
        "* Matplotlib: Plotting, Subplots, Images\n",
        "* IPython: Creating notebooks, Typical workflows"
      ],
      "metadata": {
        "id": "uF_cQ4dkOJRz"
      }
    },
    {
      "cell_type": "markdown",
      "source": [
        "##Basics of Python"
      ],
      "metadata": {
        "id": "D2kt63DeOJRz"
      }
    },
    {
      "cell_type": "markdown",
      "source": [
        "Python is a high-level, dynamically typed multiparadigm programming language. Python code is often said to be almost like pseudocode, since it allows you to express very powerful ideas in very few lines of code while being very readable. As an example, here is an implementation of the classic quicksort algorithm in Python:"
      ],
      "metadata": {
        "id": "oVQ9wM3eOJRz"
      }
    },
    {
      "cell_type": "code",
      "source": [
        "def quicksort(arr):\n",
        "    if len(arr) <= 1:\n",
        "        return arr\n",
        "    pivot = arr[len(arr) // 2]\n",
        "    left = [x for x in arr if x < pivot]\n",
        "    middle = [x for x in arr if x == pivot]\n",
        "    right = [x for x in arr if x > pivot]\n",
        "    return quicksort(left) + middle + quicksort(right)\n",
        "\n",
        "print quicksort([3,6,8,10,1,2,1])"
      ],
      "outputs": [
        {
          "output_type": "error",
          "ename": "SyntaxError",
          "evalue": "ignored",
          "traceback": [
            "\u001b[0;36m  File \u001b[0;32m\"<ipython-input-2-e6bd7a52e634>\"\u001b[0;36m, line \u001b[0;32m10\u001b[0m\n\u001b[0;31m    print quicksort([3,6,8,10,1,2,1])\u001b[0m\n\u001b[0m    ^\u001b[0m\n\u001b[0;31mSyntaxError\u001b[0m\u001b[0;31m:\u001b[0m Missing parentheses in call to 'print'. Did you mean print(...)?\n"
          ]
        }
      ],
      "metadata": {
        "id": "ZkLP9i5QOJR0",
        "outputId": "9d65c7d5-9a76-49f0-971d-529f560d68d7",
        "colab": {
          "base_uri": "https://localhost:8080/",
          "height": 140
        }
      },
      "execution_count": 2
    },
    {
      "cell_type": "markdown",
      "source": [
        "###Python versions"
      ],
      "metadata": {
        "id": "hhX6HSRhOJR1"
      }
    },
    {
      "cell_type": "markdown",
      "source": [
        "There are currently two different supported versions of Python, 2.7 and 3.4. Somewhat confusingly, Python 3.0 introduced many backwards-incompatible changes to the language, so code written for 2.7 may not work under 3.4 and vice versa. For this class all code will use Python 2.7.\n",
        "\n",
        "You can check your Python version at the command line by running `python --version`."
      ],
      "metadata": {
        "id": "e7_kBa84OJR1"
      }
    },
    {
      "cell_type": "markdown",
      "source": [
        "###Basic data types"
      ],
      "metadata": {
        "id": "3btBDELyOJR1"
      }
    },
    {
      "cell_type": "markdown",
      "source": [
        "####Numbers"
      ],
      "metadata": {
        "id": "N3p7Ms-kOJR1"
      }
    },
    {
      "cell_type": "markdown",
      "source": [
        "Integers and floats work as you would expect from other languages:"
      ],
      "metadata": {
        "id": "srIgnNk0OJR1"
      }
    },
    {
      "cell_type": "code",
      "source": [
        "x = 3\n",
        "print x, type(x)"
      ],
      "outputs": [
        {
          "output_type": "stream",
          "text": [
            "3 <type 'int'>\n"
          ],
          "name": "stdout"
        }
      ],
      "metadata": {
        "id": "oFp_PJf3OJR1",
        "outputId": "237131c7-1322-44bf-e34e-c39ef5b28714"
      },
      "execution_count": null
    },
    {
      "cell_type": "code",
      "source": [
        "print (x + 1)   # Addition;\n",
        "print (x - 1)   # Subtraction;\n",
        "print (x * 2 )  # Multiplication;\n",
        "print (x ** 2)  # Exponentiation;"
      ],
      "outputs": [
        {
          "output_type": "error",
          "ename": "NameError",
          "evalue": "ignored",
          "traceback": [
            "\u001b[0;31m---------------------------------------------------------------------------\u001b[0m",
            "\u001b[0;31mNameError\u001b[0m                                 Traceback (most recent call last)",
            "\u001b[0;32m<ipython-input-3-c2fa06b14ee4>\u001b[0m in \u001b[0;36m<cell line: 1>\u001b[0;34m()\u001b[0m\n\u001b[0;32m----> 1\u001b[0;31m \u001b[0mprint\u001b[0m \u001b[0;34m(\u001b[0m\u001b[0mx\u001b[0m \u001b[0;34m+\u001b[0m \u001b[0;36m1\u001b[0m\u001b[0;34m)\u001b[0m   \u001b[0;31m# Addition;\u001b[0m\u001b[0;34m\u001b[0m\u001b[0;34m\u001b[0m\u001b[0m\n\u001b[0m\u001b[1;32m      2\u001b[0m \u001b[0mprint\u001b[0m \u001b[0;34m(\u001b[0m\u001b[0mx\u001b[0m \u001b[0;34m-\u001b[0m \u001b[0;36m1\u001b[0m\u001b[0;34m)\u001b[0m   \u001b[0;31m# Subtraction;\u001b[0m\u001b[0;34m\u001b[0m\u001b[0;34m\u001b[0m\u001b[0m\n\u001b[1;32m      3\u001b[0m \u001b[0mprint\u001b[0m \u001b[0;34m(\u001b[0m\u001b[0mx\u001b[0m \u001b[0;34m*\u001b[0m \u001b[0;36m2\u001b[0m \u001b[0;34m)\u001b[0m  \u001b[0;31m# Multiplication;\u001b[0m\u001b[0;34m\u001b[0m\u001b[0;34m\u001b[0m\u001b[0m\n\u001b[1;32m      4\u001b[0m \u001b[0mprint\u001b[0m \u001b[0;34m(\u001b[0m\u001b[0mx\u001b[0m \u001b[0;34m**\u001b[0m \u001b[0;36m2\u001b[0m\u001b[0;34m)\u001b[0m  \u001b[0;31m# Exponentiation;\u001b[0m\u001b[0;34m\u001b[0m\u001b[0;34m\u001b[0m\u001b[0m\n",
            "\u001b[0;31mNameError\u001b[0m: name 'x' is not defined"
          ]
        }
      ],
      "metadata": {
        "id": "WRkaVB2uOJR1",
        "outputId": "77167119-64ed-496e-e1b7-edaa8f8a5a07",
        "colab": {
          "base_uri": "https://localhost:8080/",
          "height": 227
        }
      },
      "execution_count": 3
    },
    {
      "cell_type": "code",
      "source": [
        "x += 1\n",
        "print x  # Prints \"4\"\n",
        "x *= 2\n",
        "print x  # Prints \"8\""
      ],
      "outputs": [
        {
          "output_type": "stream",
          "text": [
            "4\n",
            "8\n"
          ],
          "name": "stdout"
        }
      ],
      "metadata": {
        "id": "888wf9SgOJR2",
        "outputId": "4159202c-c847-4163-af55-eea829455abe"
      },
      "execution_count": null
    },
    {
      "cell_type": "code",
      "source": [
        "y = 2.5\n",
        "print type(y) # Prints \"<type 'float'>\"\n",
        "print y, (y + 1), (y * 2), (y ** 2) # Prints \"2.5 3.5 5.0 6.25\""
      ],
      "outputs": [
        {
          "output_type": "stream",
          "text": [
            "<type 'float'>\n",
            "2.5 3.5 5.0 6.25\n"
          ],
          "name": "stdout"
        }
      ],
      "metadata": {
        "id": "XWr5ePjrOJR2",
        "outputId": "dd59acee-29be-4c43-9331-846b4b43a827"
      },
      "execution_count": null
    },
    {
      "cell_type": "markdown",
      "source": [
        "Note that unlike many languages, Python does not have unary increment (x++) or decrement (x--) operators.\n",
        "\n",
        "Python also has built-in types for long integers and complex numbers; you can find all of the details in the [documentation](https://docs.python.org/2/library/stdtypes.html#numeric-types-int-float-long-complex)."
      ],
      "metadata": {
        "id": "jORKsMsaOJR2"
      }
    },
    {
      "cell_type": "markdown",
      "source": [
        "####Booleans"
      ],
      "metadata": {
        "id": "jrS3tzofOJR2"
      }
    },
    {
      "cell_type": "markdown",
      "source": [
        "Python implements all of the usual operators for Boolean logic, but uses English words rather than symbols (`&&`, `||`, etc.):"
      ],
      "metadata": {
        "id": "h65rloIXOJR2"
      }
    },
    {
      "cell_type": "code",
      "source": [
        "t, f = True, False\n",
        "print (type(t)) # Prints \"<type 'bool'>\""
      ],
      "outputs": [
        {
          "output_type": "stream",
          "name": "stdout",
          "text": [
            "<class 'bool'>\n"
          ]
        }
      ],
      "metadata": {
        "id": "ad35gOA5OJR2",
        "outputId": "886a3c39-582f-4d47-facd-ec04c80ebeeb",
        "colab": {
          "base_uri": "https://localhost:8080/"
        }
      },
      "execution_count": 4
    },
    {
      "cell_type": "markdown",
      "source": [
        "Now we let's look at the operations:"
      ],
      "metadata": {
        "id": "MIXu_xXOOJR2"
      }
    },
    {
      "cell_type": "code",
      "source": [
        "print(t and f) # Logical AND;\n",
        "print(t or f)  # Logical OR;\n",
        "print(not t)   # Logical NOT;\n",
        "print(t != f)  # Logical XOR;"
      ],
      "outputs": [
        {
          "output_type": "stream",
          "name": "stdout",
          "text": [
            "False\n",
            "True\n",
            "False\n",
            "True\n"
          ]
        }
      ],
      "metadata": {
        "id": "5YREn-21OJR2",
        "outputId": "a3a9e74c-ee58-42ff-895a-9c1663c0f467",
        "colab": {
          "base_uri": "https://localhost:8080/"
        }
      },
      "execution_count": 5
    },
    {
      "cell_type": "markdown",
      "source": [
        "####Strings"
      ],
      "metadata": {
        "id": "ZCX-ih_fOJR2"
      }
    },
    {
      "cell_type": "code",
      "source": [
        "hello = 'hello'   # String literals can use single quotes\n",
        "world = \"world\"   # or double quotes; it does not matter.\n",
        "print (hello, len(hello))"
      ],
      "outputs": [
        {
          "output_type": "stream",
          "name": "stdout",
          "text": [
            "hello 5\n"
          ]
        }
      ],
      "metadata": {
        "id": "02d_btMHOJR2",
        "outputId": "628c3f9a-3c95-4e65-d476-abb1e7cda777",
        "colab": {
          "base_uri": "https://localhost:8080/"
        }
      },
      "execution_count": 6
    },
    {
      "cell_type": "code",
      "source": [
        "hw = hello + ' ' + world  # String concatenation\n",
        "print (hw)  # prints \"hello world\""
      ],
      "outputs": [
        {
          "output_type": "stream",
          "name": "stdout",
          "text": [
            "hello world\n"
          ]
        }
      ],
      "metadata": {
        "id": "lgO27Ec_OJR2",
        "outputId": "a56d9afd-ee66-4a4f-8e5d-a4bc5a809192",
        "colab": {
          "base_uri": "https://localhost:8080/"
        }
      },
      "execution_count": 7
    },
    {
      "cell_type": "code",
      "source": [
        "hw12 = '%s %s %d' % (hello, world, 1200)  # sprintf style string formatting\n",
        "print (hw12)  # prints \"hello world 12\""
      ],
      "outputs": [
        {
          "output_type": "stream",
          "name": "stdout",
          "text": [
            "hello world 1200\n"
          ]
        }
      ],
      "metadata": {
        "id": "xKE9FkYQOJR2",
        "outputId": "c73629f6-a086-4ccb-f2c8-f0cf79bedd31",
        "colab": {
          "base_uri": "https://localhost:8080/"
        }
      },
      "execution_count": 9
    },
    {
      "cell_type": "markdown",
      "source": [
        "String objects have a bunch of useful methods; for example:"
      ],
      "metadata": {
        "id": "UsL2R8KiOJR2"
      }
    },
    {
      "cell_type": "code",
      "source": [
        "s = \"hello\"\n",
        "print (s.capitalize())  # Capitalize a string; prints \"Hello\"\n",
        "print (s.upper())       # Convert a string to uppercase; prints \"HELLO\"\n",
        "print (s.rjust(7))      # Right-justify a string, padding with spaces; prints \"  hello\"\n",
        "print (s.center(7))     # Center a string, padding with spaces; prints \" hello \"\n",
        "print (s.replace('l', '(ell)'))  # Replace all instances of one substring with another;\n",
        "                               # prints \"he(ell)(ell)o\"\n",
        "print ('  world '.strip())  # Strip leading and trailing whitespace; prints \"world\""
      ],
      "outputs": [
        {
          "output_type": "stream",
          "name": "stdout",
          "text": [
            "Hello\n",
            "HELLO\n",
            "  hello\n",
            " hello \n",
            "he(ell)(ell)o\n",
            "world\n"
          ]
        }
      ],
      "metadata": {
        "id": "VkHzygVCOJR3",
        "outputId": "942a9ac3-6444-493d-9621-3066324d3ea4",
        "colab": {
          "base_uri": "https://localhost:8080/"
        }
      },
      "execution_count": 10
    },
    {
      "cell_type": "markdown",
      "source": [
        "You can find a list of all string methods in the [documentation](https://docs.python.org/2/library/stdtypes.html#string-methods)."
      ],
      "metadata": {
        "id": "2hNzQKR2OJR3"
      }
    },
    {
      "cell_type": "markdown",
      "source": [
        "###Containers"
      ],
      "metadata": {
        "id": "c2zdIIesOJR3"
      }
    },
    {
      "cell_type": "markdown",
      "source": [
        "Python includes several built-in container types: lists, dictionaries, sets, and tuples."
      ],
      "metadata": {
        "id": "onv-S9tyOJR3"
      }
    },
    {
      "cell_type": "markdown",
      "source": [
        "####Lists"
      ],
      "metadata": {
        "id": "VQZPhZ5MOJR3"
      }
    },
    {
      "cell_type": "markdown",
      "source": [
        "A list is the Python equivalent of an array, but is resizeable and can contain elements of different types:"
      ],
      "metadata": {
        "id": "lidwiNDoOJR3"
      }
    },
    {
      "cell_type": "code",
      "source": [
        "xs = [3, 1, 2]   # Create a list\n",
        "print (xs, xs[2])\n",
        "print (xs[-1])     # Negative indices count from the end of the list; prints \"2\""
      ],
      "outputs": [
        {
          "output_type": "stream",
          "name": "stdout",
          "text": [
            "[3, 1, 2] 2\n",
            "2\n"
          ]
        }
      ],
      "metadata": {
        "id": "2j9p_7hzOJR3",
        "outputId": "3dc97cec-8d49-4c6f-92d3-d145115141b4",
        "colab": {
          "base_uri": "https://localhost:8080/"
        }
      },
      "execution_count": 11
    },
    {
      "cell_type": "code",
      "source": [
        "xs[2] = 'foo'    # Lists can contain elements of different types\n",
        "print(xs)"
      ],
      "outputs": [
        {
          "output_type": "stream",
          "name": "stdout",
          "text": [
            "[3, 1, 'foo']\n"
          ]
        }
      ],
      "metadata": {
        "id": "YSsjQ0TPOJR3",
        "outputId": "9f1d5537-cf65-4b52-e84e-d55b523a81e8",
        "colab": {
          "base_uri": "https://localhost:8080/"
        }
      },
      "execution_count": 12
    },
    {
      "cell_type": "code",
      "source": [
        "xs.appent('bar') # Add a new element to the end of the list\n",
        "print(xs)"
      ],
      "outputs": [
        {
          "output_type": "error",
          "ename": "AttributeError",
          "evalue": "ignored",
          "traceback": [
            "\u001b[0;31m---------------------------------------------------------------------------\u001b[0m",
            "\u001b[0;31mAttributeError\u001b[0m                            Traceback (most recent call last)",
            "\u001b[0;32m<ipython-input-13-2ddf8f41e0bf>\u001b[0m in \u001b[0;36m<cell line: 1>\u001b[0;34m()\u001b[0m\n\u001b[0;32m----> 1\u001b[0;31m \u001b[0mxs\u001b[0m\u001b[0;34m.\u001b[0m\u001b[0mappent\u001b[0m\u001b[0;34m(\u001b[0m\u001b[0;34m'bar'\u001b[0m\u001b[0;34m)\u001b[0m \u001b[0;31m# Add a new element to the end of the list\u001b[0m\u001b[0;34m\u001b[0m\u001b[0;34m\u001b[0m\u001b[0m\n\u001b[0m\u001b[1;32m      2\u001b[0m \u001b[0mprint\u001b[0m\u001b[0;34m(\u001b[0m\u001b[0mxs\u001b[0m\u001b[0;34m)\u001b[0m\u001b[0;34m\u001b[0m\u001b[0;34m\u001b[0m\u001b[0m\n",
            "\u001b[0;31mAttributeError\u001b[0m: 'list' object has no attribute 'appent'"
          ]
        }
      ],
      "metadata": {
        "id": "UBoFDSoJOJR3",
        "outputId": "d88c0d3d-2ccd-44c9-fbe2-326a5306e673",
        "colab": {
          "base_uri": "https://localhost:8080/",
          "height": 192
        }
      },
      "execution_count": 13
    },
    {
      "cell_type": "code",
      "source": [
        "x = xs.###()     # Remove and return the last element of the list\n",
        "print x, xs"
      ],
      "outputs": [
        {
          "output_type": "stream",
          "text": [
            "bar [3, 1, 'foo']\n"
          ],
          "name": "stdout"
        }
      ],
      "metadata": {
        "id": "v2MVdaPbOJR3",
        "outputId": "dbdea683-a303-4750-a825-b6f22d4b5064"
      },
      "execution_count": null
    },
    {
      "cell_type": "markdown",
      "source": [
        "As usual, you can find all the gory details about lists in the [documentation](https://docs.python.org/2/tutorial/datastructures.html#more-on-lists)."
      ],
      "metadata": {
        "id": "Z0CYpWLqOJR3"
      }
    },
    {
      "cell_type": "markdown",
      "source": [
        "####Slicing"
      ],
      "metadata": {
        "id": "mQ-Z2vhgOJR7"
      }
    },
    {
      "cell_type": "markdown",
      "source": [
        "In addition to accessing list elements one at a time, Python provides concise syntax to access sublists; this is known as slicing:"
      ],
      "metadata": {
        "id": "ksENFe8AOJR7"
      }
    },
    {
      "cell_type": "code",
      "source": [
        "nums = range(5)    # range is a built-in function that creates a list of integers\n",
        "print (nums)         # Prints \"[0, 1, 2, 3, 4]\"\n",
        "print (nums[2:4])   # Get a slice from index 2 to 4 (exclusive); prints \"[2, 3]\"\n",
        "print (nums[2:])   # Get a slice from index 2 to the end; prints \"[2, 3, 4]\"\n",
        "print (nums[:2])  # Get a slice from the start to index 2 (exclusive); prints \"[0, 1]\"\n",
        "print (nums[:1])      # Get a slice of the whole list; prints [\"0, 1, 2, 3, 4]\"\n",
        "print (nums[:-1])    # Slice indices can be negative; prints [\"0, 1, 2, 3]\"\n",
        "(nums[2:4] = [8, 9]) # Assign a new sublist to a slice\n",
        "print (nums)         # Prints \"[0, 1, 8, 9, 4]\""
      ],
      "outputs": [
        {
          "output_type": "error",
          "ename": "SyntaxError",
          "evalue": "ignored",
          "traceback": [
            "\u001b[0;36m  File \u001b[0;32m\"<ipython-input-17-0731a1fa4756>\"\u001b[0;36m, line \u001b[0;32m8\u001b[0m\n\u001b[0;31m    (nums[2:4] = [8, 9]) # Assign a new sublist to a slice\u001b[0m\n\u001b[0m     ^\u001b[0m\n\u001b[0;31mSyntaxError\u001b[0m\u001b[0;31m:\u001b[0m cannot assign to subscript here. Maybe you meant '==' instead of '='?\n"
          ]
        }
      ],
      "metadata": {
        "id": "JtNtVArpOJR7",
        "outputId": "9a092d19-ebfa-4a05-956f-96a40377af20",
        "colab": {
          "base_uri": "https://localhost:8080/",
          "height": 140
        }
      },
      "execution_count": 17
    },
    {
      "cell_type": "markdown",
      "source": [
        "####Loops"
      ],
      "metadata": {
        "id": "Ai_cu7m3OJR7"
      }
    },
    {
      "cell_type": "markdown",
      "source": [
        "You can loop over the elements of a list like this:"
      ],
      "metadata": {
        "id": "IgKtIJocOJR7"
      }
    },
    {
      "cell_type": "code",
      "source": [
        "animals = ['cat', 'dog', 'monkey']\n",
        "for animal in animals:\n",
        "    print (animal)"
      ],
      "outputs": [
        {
          "output_type": "stream",
          "name": "stdout",
          "text": [
            "cat\n",
            "dog\n",
            "monkey\n"
          ]
        }
      ],
      "metadata": {
        "id": "LfQboLvkOJR7",
        "outputId": "a2d751a7-ebbe-4bb0-ee2a-0516a98bd0b2",
        "colab": {
          "base_uri": "https://localhost:8080/"
        }
      },
      "execution_count": 18
    },
    {
      "cell_type": "markdown",
      "source": [
        "If you want access to the index of each element within the body of a loop, use the built-in `enumerate` function:"
      ],
      "metadata": {
        "id": "KkB8h3yhOJR7"
      }
    },
    {
      "cell_type": "code",
      "source": [
        "animals = ['cat', 'dog', 'monkey']\n",
        "for idx, animal in enumerate(animals):\n",
        "    print ('#%d: %s' % (idx + 1, animal))"
      ],
      "outputs": [
        {
          "output_type": "stream",
          "name": "stdout",
          "text": [
            "#1: cat\n",
            "#2: dog\n",
            "#3: monkey\n"
          ]
        }
      ],
      "metadata": {
        "id": "3V6CKS_HOJR7",
        "outputId": "8ab56677-f319-4c69-a7d7-60c5234ea9b7",
        "colab": {
          "base_uri": "https://localhost:8080/"
        }
      },
      "execution_count": 19
    },
    {
      "cell_type": "markdown",
      "source": [
        "####List comprehensions:"
      ],
      "metadata": {
        "id": "yzuXGodBOJR7"
      }
    },
    {
      "cell_type": "markdown",
      "source": [
        "When programming, frequently we want to transform one type of data into another. As a simple example, consider the following code that computes square numbers:"
      ],
      "metadata": {
        "id": "HAyPvpyFOJR8"
      }
    },
    {
      "cell_type": "code",
      "source": [
        "nums = [0, 1, 2, 3, 4]\n",
        "squares = []\n",
        "for x in nums:\n",
        "    squares.append(x ** 2)\n",
        "print (squares)"
      ],
      "outputs": [
        {
          "output_type": "stream",
          "name": "stdout",
          "text": [
            "[0, 1, 4, 9, 16]\n"
          ]
        }
      ],
      "metadata": {
        "id": "wUpJsy31OJR8",
        "outputId": "79f06434-dc9e-4d99-b9ce-4c49bb406e78",
        "colab": {
          "base_uri": "https://localhost:8080/"
        }
      },
      "execution_count": 20
    },
    {
      "cell_type": "markdown",
      "source": [
        "You can make this code simpler using a list comprehension:"
      ],
      "metadata": {
        "id": "gTmLrGLPOJR8"
      }
    },
    {
      "cell_type": "code",
      "source": [
        "nums = [0, 1, 2, 3, 4]\n",
        "squares = [x ** 2 for x in nums]\n",
        "print (squares)"
      ],
      "outputs": [
        {
          "output_type": "stream",
          "name": "stdout",
          "text": [
            "[0, 1, 4, 9, 16]\n"
          ]
        }
      ],
      "metadata": {
        "id": "ix_rijVDOJR8",
        "outputId": "24349623-33e3-4594-a809-001cb9c6f9c7",
        "colab": {
          "base_uri": "https://localhost:8080/"
        }
      },
      "execution_count": 21
    },
    {
      "cell_type": "markdown",
      "source": [
        "List comprehensions can also contain conditions:"
      ],
      "metadata": {
        "id": "RB5-qpK-OJR8"
      }
    },
    {
      "cell_type": "code",
      "source": [
        "nums = [0, 1, 2, 3, 4]\n",
        "even_squares = [x ** 2 for x in nums if x % 2 == 0]\n",
        "print (even_squares)"
      ],
      "outputs": [
        {
          "output_type": "stream",
          "name": "stdout",
          "text": [
            "[0, 4, 16]\n"
          ]
        }
      ],
      "metadata": {
        "id": "WbXgY_GyOJR8",
        "outputId": "4a6d8478-7374-46ee-a865-75acbc48deb8",
        "colab": {
          "base_uri": "https://localhost:8080/"
        }
      },
      "execution_count": 22
    },
    {
      "cell_type": "markdown",
      "source": [
        "####Dictionaries"
      ],
      "metadata": {
        "id": "Yxtb56aCOJR8"
      }
    },
    {
      "cell_type": "markdown",
      "source": [
        "A dictionary stores (key, value) pairs, similar to a `Map` in Java or an object in Javascript. You can use it like this:"
      ],
      "metadata": {
        "id": "wZcoAWvHOJR8"
      }
    },
    {
      "cell_type": "code",
      "source": [
        "d = {'cat': 'cute', 'dog': 'furry'}  # Create a new dictionary with some data\n",
        "print (d['cat'])       # Get an entry from a dictionary; prints \"cute\"\n",
        "print ( 'cat' in d)     # Check if a dictionary has a given key; prints \"True\""
      ],
      "outputs": [
        {
          "output_type": "stream",
          "name": "stdout",
          "text": [
            "cute\n",
            "True\n"
          ]
        }
      ],
      "metadata": {
        "id": "SVgVlo5IOJR8",
        "outputId": "85917169-c7eb-4c54-b5c8-94c89e7bd9d5",
        "colab": {
          "base_uri": "https://localhost:8080/"
        }
      },
      "execution_count": 23
    },
    {
      "cell_type": "code",
      "source": [
        "d['fish'] = 'wet'    # Set an entry in a dictionary\n",
        "print (d['fish'])      # Prints \"wet\""
      ],
      "outputs": [
        {
          "output_type": "stream",
          "name": "stdout",
          "text": [
            "wet\n"
          ]
        }
      ],
      "metadata": {
        "id": "W_WjFou_OJR8",
        "outputId": "d2f1927e-7c0b-429d-fd2b-6826bd67ec9b",
        "colab": {
          "base_uri": "https://localhost:8080/"
        }
      },
      "execution_count": 24
    },
    {
      "cell_type": "code",
      "source": [
        "print (d['monkey'])  # KeyError: 'monkey' not a key of d"
      ],
      "outputs": [
        {
          "output_type": "error",
          "ename": "KeyError",
          "evalue": "ignored",
          "traceback": [
            "\u001b[0;31m---------------------------------------------------------------------------\u001b[0m",
            "\u001b[0;31mKeyError\u001b[0m                                  Traceback (most recent call last)",
            "\u001b[0;32m<ipython-input-26-2de793f9c766>\u001b[0m in \u001b[0;36m<cell line: 1>\u001b[0;34m()\u001b[0m\n\u001b[0;32m----> 1\u001b[0;31m \u001b[0mprint\u001b[0m \u001b[0;34m(\u001b[0m\u001b[0md\u001b[0m\u001b[0;34m[\u001b[0m\u001b[0;34m'monkey'\u001b[0m\u001b[0;34m]\u001b[0m\u001b[0;34m)\u001b[0m  \u001b[0;31m# KeyError: 'monkey' not a key of d\u001b[0m\u001b[0;34m\u001b[0m\u001b[0;34m\u001b[0m\u001b[0m\n\u001b[0m",
            "\u001b[0;31mKeyError\u001b[0m: 'monkey'"
          ]
        }
      ],
      "metadata": {
        "id": "dIxH0xCNOJR8",
        "outputId": "3f05e460-e056-4766-8ada-753701740d7d",
        "colab": {
          "base_uri": "https://localhost:8080/",
          "height": 175
        }
      },
      "execution_count": 26
    },
    {
      "cell_type": "code",
      "source": [
        "print d.get('monkey', 'N/A')  # Get an element with a default; prints \"N/A\"\n",
        "print d.get('fish', 'N/A')    # Get an element with a default; prints \"wet\""
      ],
      "outputs": [
        {
          "output_type": "stream",
          "text": [
            "N/A\n",
            "wet\n"
          ],
          "name": "stdout"
        }
      ],
      "metadata": {
        "id": "yqGjWl7-OJR8",
        "outputId": "d03a13d9-3c17-4941-fd2f-a3b0821aefbe"
      },
      "execution_count": null
    },
    {
      "cell_type": "code",
      "source": [
        "del d['fish']        # Remove an element from a dictionary\n",
        "print d.get('fish', 'N/A') # \"fish\" is no longer a key; prints \"N/A\""
      ],
      "outputs": [
        {
          "output_type": "stream",
          "text": [
            "N/A\n"
          ],
          "name": "stdout"
        }
      ],
      "metadata": {
        "id": "jCbgsYHCOJR8",
        "outputId": "f843e84e-47ad-4158-d437-0dcd0ea67bb8"
      },
      "execution_count": null
    },
    {
      "cell_type": "markdown",
      "source": [
        "You can find all you need to know about dictionaries in the [documentation](https://docs.python.org/2/library/stdtypes.html#dict)."
      ],
      "metadata": {
        "id": "aQbUl4YpOJR8"
      }
    },
    {
      "cell_type": "markdown",
      "source": [
        "It is easy to iterate over the keys in a dictionary:"
      ],
      "metadata": {
        "id": "wxqtR9ryOJR8"
      }
    },
    {
      "cell_type": "code",
      "source": [
        "d = {'person': 2, 'cat': 4, 'spider': 8}\n",
        "for animal in d:\n",
        "    legs = d[animal]\n",
        "    print ('A %s has %d legs' % (animal, legs))"
      ],
      "outputs": [
        {
          "output_type": "stream",
          "name": "stdout",
          "text": [
            "A person has 2 legs\n",
            "A cat has 4 legs\n",
            "A spider has 8 legs\n"
          ]
        }
      ],
      "metadata": {
        "id": "-Sq0_A4tOJR8",
        "outputId": "02b11e84-1f57-498c-df84-96ea3050544e",
        "colab": {
          "base_uri": "https://localhost:8080/"
        }
      },
      "execution_count": 27
    },
    {
      "cell_type": "markdown",
      "source": [
        "If you want access to keys and their corresponding values, use the iteritems method:"
      ],
      "metadata": {
        "id": "A78dEdxkOJR9"
      }
    },
    {
      "cell_type": "code",
      "source": [
        "d = {'person': 2, 'cat': 4, 'spider': 8}\n",
        "for animal, legs in d.items():\n",
        "    print ('A %s has %d legs' % (animal, legs))"
      ],
      "outputs": [
        {
          "output_type": "stream",
          "name": "stdout",
          "text": [
            "A person has 2 legs\n",
            "A cat has 4 legs\n",
            "A spider has 8 legs\n"
          ]
        }
      ],
      "metadata": {
        "id": "aI7i4KPOOJR9",
        "outputId": "1d0b8943-0976-47e9-b6d7-9c07c8f5dc61",
        "colab": {
          "base_uri": "https://localhost:8080/"
        }
      },
      "execution_count": 28
    },
    {
      "cell_type": "markdown",
      "source": [
        "Dictionary comprehensions: These are similar to list comprehensions, but allow you to easily construct dictionaries. For example:"
      ],
      "metadata": {
        "id": "Ab3baf4AOJR9"
      }
    },
    {
      "cell_type": "code",
      "source": [
        "nums = [0, 1, 2, 3, 4]\n",
        "even_num_to_square = {x: x ** 2 for x in nums if x % 2 == 0}\n",
        "print (even_num_to_square)"
      ],
      "outputs": [
        {
          "output_type": "stream",
          "name": "stdout",
          "text": [
            "{0: 0, 2: 4, 4: 16}\n"
          ]
        }
      ],
      "metadata": {
        "id": "xsT0mQa8OJR9",
        "outputId": "7624ffa5-04af-4eed-d5fb-62ae338aa126",
        "colab": {
          "base_uri": "https://localhost:8080/"
        }
      },
      "execution_count": 29
    },
    {
      "cell_type": "markdown",
      "source": [
        "####Sets"
      ],
      "metadata": {
        "id": "Aj35n9O1OJR9"
      }
    },
    {
      "cell_type": "markdown",
      "source": [
        "A set is an unordered collection of distinct elements. As a simple example, consider the following:"
      ],
      "metadata": {
        "id": "G8IrLTXbOJR9"
      }
    },
    {
      "cell_type": "code",
      "source": [
        "animals = {'cat', 'dog'}\n",
        "print ('cat' in animals)   # Check if an element is in a set; prints \"True\"\n",
        "print ('fish' in animals)  # prints \"False\"\n"
      ],
      "outputs": [
        {
          "output_type": "stream",
          "name": "stdout",
          "text": [
            "True\n",
            "False\n"
          ]
        }
      ],
      "metadata": {
        "id": "o8VEDBh3OJR9",
        "outputId": "f618b3f7-d3f1-4919-d359-7a3eb550bda5",
        "colab": {
          "base_uri": "https://localhost:8080/"
        }
      },
      "execution_count": 30
    },
    {
      "cell_type": "code",
      "source": [
        "animals.add('fish')      # Add an element to a set\n",
        "print ('fish' in animals)\n",
        "print (len(animals))       # Number of elements in a set;"
      ],
      "outputs": [
        {
          "output_type": "stream",
          "name": "stdout",
          "text": [
            "True\n",
            "3\n"
          ]
        }
      ],
      "metadata": {
        "id": "yhcry5iiOJR9",
        "outputId": "2b036985-6508-46e5-92c9-c0e80963f75e",
        "colab": {
          "base_uri": "https://localhost:8080/"
        }
      },
      "execution_count": 31
    },
    {
      "cell_type": "code",
      "source": [
        "animals.add('cat')       # Adding an element that is already in the set does nothing\n",
        "print (len(animals))\n",
        "animals.remove('cat')    # Remove an element from a set\n",
        "print (len(animals))"
      ],
      "outputs": [
        {
          "output_type": "stream",
          "name": "stdout",
          "text": [
            "3\n",
            "2\n"
          ]
        }
      ],
      "metadata": {
        "id": "zCNvpZrmOJR9",
        "outputId": "57ff2b0b-9535-4a02-b9a1-253c088f1ce6",
        "colab": {
          "base_uri": "https://localhost:8080/"
        }
      },
      "execution_count": 32
    },
    {
      "cell_type": "markdown",
      "source": [
        "_Loops_: Iterating over a set has the same syntax as iterating over a list; however since sets are unordered, you cannot make assumptions about the order in which you visit the elements of the set:"
      ],
      "metadata": {
        "id": "hP8pUKO1OJR9"
      }
    },
    {
      "cell_type": "code",
      "source": [
        "animals = {'cat', 'dog', 'fish'}\n",
        "for idx, animal in enumerate(animals):\n",
        "    print ('#%d: %s' % (idx + 1, animal))\n",
        "# Prints \"#1: fish\", \"#2: dog\", \"#3: cat\""
      ],
      "outputs": [
        {
          "output_type": "stream",
          "name": "stdout",
          "text": [
            "#1: fish\n",
            "#2: cat\n",
            "#3: dog\n"
          ]
        }
      ],
      "metadata": {
        "id": "JFNEKM8COJR9",
        "outputId": "6651aa9a-0184-4ae6-b161-12098a9d24f9",
        "colab": {
          "base_uri": "https://localhost:8080/"
        }
      },
      "execution_count": 33
    },
    {
      "cell_type": "markdown",
      "source": [
        "Set comprehensions: Like lists and dictionaries, we can easily construct sets using set comprehensions:"
      ],
      "metadata": {
        "id": "zhkZ8QEHOJR9"
      }
    },
    {
      "cell_type": "code",
      "source": [
        "from math import sqrt\n",
        "print {int(sqrt(x)) for x in range(30)}"
      ],
      "outputs": [
        {
          "output_type": "stream",
          "text": [
            "set([0, 1, 2, 3, 4, 5])\n"
          ],
          "name": "stdout"
        }
      ],
      "metadata": {
        "id": "hIl5XX5lOJR9",
        "outputId": "0acde06e-b441-4b3d-c6f2-ac3f69424216"
      },
      "execution_count": null
    },
    {
      "cell_type": "markdown",
      "source": [
        "####Tuples"
      ],
      "metadata": {
        "id": "97VdlIblOJR9"
      }
    },
    {
      "cell_type": "markdown",
      "source": [
        "A tuple is an (immutable) ordered list of values. A tuple is in many ways similar to a list; one of the most important differences is that tuples can be used as keys in dictionaries and as elements of sets, while lists cannot. Here is a trivial example:"
      ],
      "metadata": {
        "id": "NVKgu-gnOJR9"
      }
    },
    {
      "cell_type": "code",
      "source": [
        "d = {(x, x + 1): x for x in range(10)}  # Create a dictionary with tuple keys\n",
        "t = (5, 6)       # Create a tuple\n",
        "print (type(t))\n",
        "print (d[t])\n",
        "print (d[(1, 2)])"
      ],
      "outputs": [
        {
          "output_type": "stream",
          "name": "stdout",
          "text": [
            "<class 'tuple'>\n",
            "5\n",
            "1\n"
          ]
        }
      ],
      "metadata": {
        "id": "KJkNnzvaOJR9",
        "outputId": "3932365d-886d-4924-a053-e1cb014ba28f",
        "colab": {
          "base_uri": "https://localhost:8080/"
        }
      },
      "execution_count": 34
    },
    {
      "cell_type": "code",
      "source": [
        "t[0] = 1"
      ],
      "outputs": [
        {
          "output_type": "error",
          "ename": "TypeError",
          "evalue": "'tuple' object does not support item assignment",
          "traceback": [
            "\u001b[0;31m---------------------------------------------------------------------------\u001b[0m\n\u001b[0;31mTypeError\u001b[0m                                 Traceback (most recent call last)",
            "\u001b[0;32m<ipython-input-176-0a69537257d5>\u001b[0m in \u001b[0;36m<module>\u001b[0;34m()\u001b[0m\n\u001b[0;32m----> 1\u001b[0;31m \u001b[0mt\u001b[0m\u001b[0;34m[\u001b[0m\u001b[0;36m0\u001b[0m\u001b[0;34m]\u001b[0m \u001b[0;34m=\u001b[0m \u001b[0;36m1\u001b[0m\u001b[0;34m\u001b[0m\u001b[0m\n\u001b[0m",
            "\u001b[0;31mTypeError\u001b[0m: 'tuple' object does not support item assignment"
          ]
        }
      ],
      "metadata": {
        "id": "PqTRnnpyOJR9",
        "outputId": "deb09d02-dd53-4fd4-c4b1-742722be1075"
      },
      "execution_count": null
    },
    {
      "cell_type": "markdown",
      "source": [
        "###Functions"
      ],
      "metadata": {
        "id": "OX4cziNeOJR-"
      }
    },
    {
      "cell_type": "markdown",
      "source": [
        "Python functions are defined using the `def` keyword. For example:"
      ],
      "metadata": {
        "id": "WqwvBJ5gOJR-"
      }
    },
    {
      "cell_type": "code",
      "source": [
        "def sign(x):\n",
        "    if x > 0:\n",
        "        return 'positive'\n",
        "    elif x < 0:\n",
        "        return 'negative'\n",
        "    else:\n",
        "        return 'zero'\n",
        "\n",
        "for x in [-1, 0, 1]:\n",
        "    print (sign(x))"
      ],
      "outputs": [
        {
          "output_type": "stream",
          "name": "stdout",
          "text": [
            "negative\n",
            "zero\n",
            "positive\n"
          ]
        }
      ],
      "metadata": {
        "id": "o-NyvcRGOJR-",
        "outputId": "002796ad-8b12-450b-f043-5a417c01aac2",
        "colab": {
          "base_uri": "https://localhost:8080/"
        }
      },
      "execution_count": 35
    },
    {
      "cell_type": "markdown",
      "source": [
        "We will often define functions to take optional keyword arguments, like this:"
      ],
      "metadata": {
        "id": "KDopFutTOJR-"
      }
    },
    {
      "cell_type": "code",
      "source": [
        "def hello(name, loud=False):\n",
        "    if loud:\n",
        "        print ('HELLO, %s' % name.upper())\n",
        "    else:\n",
        "        print ('Hello, %s!' % name)\n",
        "\n",
        "hello('Bob')\n",
        "hello('Fred', loud=True)"
      ],
      "outputs": [
        {
          "output_type": "stream",
          "name": "stdout",
          "text": [
            "Hello, Bob!\n",
            "HELLO, FRED\n"
          ]
        }
      ],
      "metadata": {
        "id": "wuAQ5JgQOJR-",
        "outputId": "86e9c03c-d912-4d8a-bc9e-aceeac93c1a4",
        "colab": {
          "base_uri": "https://localhost:8080/"
        }
      },
      "execution_count": 36
    },
    {
      "cell_type": "markdown",
      "source": [
        "###Classes"
      ],
      "metadata": {
        "id": "QIyEECO0OJR-"
      }
    },
    {
      "cell_type": "markdown",
      "source": [
        "The syntax for defining classes in Python is straightforward:"
      ],
      "metadata": {
        "id": "3tjfrq4GOJR-"
      }
    },
    {
      "cell_type": "code",
      "source": [
        "class Greeter:\n",
        "\n",
        "    # Constructor\n",
        "    def __init__(self, name):\n",
        "        self.name = name  # Create an instance variable\n",
        "\n",
        "    # Instance method\n",
        "    def greet(self, loud=False):\n",
        "        if loud:\n",
        "            print ('HELLO, %s!' % self.name.upper())\n",
        "        else:\n",
        "            print ('Hello, %s' % self.name)\n",
        "\n",
        "g = Greeter('Fred')  # Construct an instance of the Greeter class\n",
        "g.greet()            # Call an instance method; prints \"Hello, Fred\"\n",
        "g.Greeter('Fred')   # Call an instance method; prints \"HELLO, FRED!\""
      ],
      "outputs": [
        {
          "output_type": "stream",
          "name": "stdout",
          "text": [
            "Hello, Fred\n"
          ]
        },
        {
          "output_type": "error",
          "ename": "AttributeError",
          "evalue": "ignored",
          "traceback": [
            "\u001b[0;31m---------------------------------------------------------------------------\u001b[0m",
            "\u001b[0;31mAttributeError\u001b[0m                            Traceback (most recent call last)",
            "\u001b[0;32m<ipython-input-38-ced54e5abbd0>\u001b[0m in \u001b[0;36m<cell line: 16>\u001b[0;34m()\u001b[0m\n\u001b[1;32m     14\u001b[0m \u001b[0mg\u001b[0m \u001b[0;34m=\u001b[0m \u001b[0mGreeter\u001b[0m\u001b[0;34m(\u001b[0m\u001b[0;34m'Fred'\u001b[0m\u001b[0;34m)\u001b[0m  \u001b[0;31m# Construct an instance of the Greeter class\u001b[0m\u001b[0;34m\u001b[0m\u001b[0;34m\u001b[0m\u001b[0m\n\u001b[1;32m     15\u001b[0m \u001b[0mg\u001b[0m\u001b[0;34m.\u001b[0m\u001b[0mgreet\u001b[0m\u001b[0;34m(\u001b[0m\u001b[0;34m)\u001b[0m            \u001b[0;31m# Call an instance method; prints \"Hello, Fred\"\u001b[0m\u001b[0;34m\u001b[0m\u001b[0;34m\u001b[0m\u001b[0m\n\u001b[0;32m---> 16\u001b[0;31m \u001b[0mg\u001b[0m\u001b[0;34m.\u001b[0m\u001b[0mGreeter\u001b[0m\u001b[0;34m(\u001b[0m\u001b[0;34m'Fred'\u001b[0m\u001b[0;34m)\u001b[0m   \u001b[0;31m# Call an instance method; prints \"HELLO, FRED!\"\u001b[0m\u001b[0;34m\u001b[0m\u001b[0;34m\u001b[0m\u001b[0m\n\u001b[0m",
            "\u001b[0;31mAttributeError\u001b[0m: 'Greeter' object has no attribute 'Greeter'"
          ]
        }
      ],
      "metadata": {
        "id": "dJWGfF_WOJR-",
        "outputId": "1c36706d-2b9e-4c08-8a59-4e10c5f36486",
        "colab": {
          "base_uri": "https://localhost:8080/",
          "height": 227
        }
      },
      "execution_count": 38
    },
    {
      "cell_type": "markdown",
      "source": [
        "##Numpy"
      ],
      "metadata": {
        "id": "wlnYuO5JOJR-"
      }
    },
    {
      "cell_type": "markdown",
      "source": [
        "Numpy is the core library for scientific computing in Python. It provides a high-performance multidimensional array object, and tools for working with these arrays. If you are already familiar with MATLAB, you might find this [tutorial](http://wiki.scipy.org/NumPy_for_Matlab_Users) useful to get started with Numpy."
      ],
      "metadata": {
        "id": "fw1bhhd0OJR-"
      }
    },
    {
      "cell_type": "markdown",
      "source": [
        "To use Numpy, we first need to import the `numpy` package:"
      ],
      "metadata": {
        "id": "iHAlUvHKOJR-"
      }
    },
    {
      "cell_type": "code",
      "source": [
        "import numpy as np"
      ],
      "outputs": [],
      "metadata": {
        "id": "ljYaYfCtOJR-"
      },
      "execution_count": 39
    },
    {
      "cell_type": "markdown",
      "source": [
        "###Arrays"
      ],
      "metadata": {
        "id": "68Solv8LOJR-"
      }
    },
    {
      "cell_type": "markdown",
      "source": [
        "A numpy array is a grid of values, all of the same type, and is indexed by a tuple of nonnegative integers. The number of dimensions is the rank of the array; the shape of an array is a tuple of integers giving the size of the array along each dimension."
      ],
      "metadata": {
        "id": "4086QXANOJR-"
      }
    },
    {
      "cell_type": "markdown",
      "source": [
        "We can initialize numpy arrays from nested Python lists, and access elements using square brackets:"
      ],
      "metadata": {
        "id": "y-AzP8hSOJR-"
      }
    },
    {
      "cell_type": "code",
      "source": [
        "a = np.array([1, 2, 3])  # Create a rank 1 array\n",
        "print (type(a), a.shape, a[0], a[1], a[2])\n",
        "a[0] = 5                 # Change an element of the array\n",
        "print (a)"
      ],
      "outputs": [
        {
          "output_type": "stream",
          "name": "stdout",
          "text": [
            "<class 'numpy.ndarray'> (3,) 1 2 3\n",
            "[5 2 3]\n"
          ]
        }
      ],
      "metadata": {
        "id": "GJ-RNJkjOJR-",
        "outputId": "9f1d7dc0-580d-4374-c085-7af051b99130",
        "colab": {
          "base_uri": "https://localhost:8080/"
        }
      },
      "execution_count": 40
    },
    {
      "cell_type": "code",
      "source": [
        "b = np.array([[1,2,3],[4,5,6]])   # Create a rank 2 array\n",
        "print (b)"
      ],
      "outputs": [
        {
          "output_type": "stream",
          "name": "stdout",
          "text": [
            "[[1 2 3]\n",
            " [4 5 6]]\n"
          ]
        }
      ],
      "metadata": {
        "id": "8vhEgUCeOJR-",
        "outputId": "f42da597-e481-4d74-d47c-77a5fc16c4a3",
        "colab": {
          "base_uri": "https://localhost:8080/"
        }
      },
      "execution_count": 41
    },
    {
      "cell_type": "code",
      "source": [
        "print (b.shape)\n",
        "print (b[0, 0], b[0, 1], b[1, 0])"
      ],
      "outputs": [
        {
          "output_type": "stream",
          "name": "stdout",
          "text": [
            "(2, 3)\n",
            "1 2 4\n"
          ]
        }
      ],
      "metadata": {
        "id": "zXUdZeO1OJR-",
        "outputId": "d2e0821e-0901-405b-a776-9ea7cd9393df",
        "colab": {
          "base_uri": "https://localhost:8080/"
        }
      },
      "execution_count": 42
    },
    {
      "cell_type": "markdown",
      "source": [
        "Numpy also provides many functions to create arrays:"
      ],
      "metadata": {
        "id": "DLB_ayevOJR_"
      }
    },
    {
      "cell_type": "code",
      "source": [
        "a = np.zeros((2,2))  # Create an array of all zeros\n",
        "print (a)"
      ],
      "outputs": [
        {
          "output_type": "stream",
          "name": "stdout",
          "text": [
            "[[0. 0.]\n",
            " [0. 0.]]\n"
          ]
        }
      ],
      "metadata": {
        "id": "30XC7DmUOJR_",
        "outputId": "1dffe68f-1e64-4f05-cbee-d0100eea80d9",
        "colab": {
          "base_uri": "https://localhost:8080/"
        }
      },
      "execution_count": 43
    },
    {
      "cell_type": "code",
      "source": [
        "b = np.ones((1,2))   # Create an array of all ones\n",
        "print (b)"
      ],
      "outputs": [
        {
          "output_type": "stream",
          "name": "stdout",
          "text": [
            "[[1. 1.]]\n"
          ]
        }
      ],
      "metadata": {
        "id": "1tQL4Vo1OJR_",
        "outputId": "d86025d5-7640-45b3-d976-7b3ecbd3664f",
        "colab": {
          "base_uri": "https://localhost:8080/"
        }
      },
      "execution_count": 44
    },
    {
      "cell_type": "code",
      "source": [
        "c = np.full((2,2), 7) # Create a constant array\n",
        "print (c)"
      ],
      "outputs": [
        {
          "output_type": "stream",
          "name": "stdout",
          "text": [
            "[[7 7]\n",
            " [7 7]]\n"
          ]
        }
      ],
      "metadata": {
        "id": "UvCet8jiOJR_",
        "outputId": "d32e238f-0218-4b24-8d5b-1be7bcd5bea6",
        "colab": {
          "base_uri": "https://localhost:8080/"
        }
      },
      "execution_count": 45
    },
    {
      "cell_type": "code",
      "source": [
        "d = np.eye(2)        # Create a 2x2 identity matrix\n",
        "print (d)"
      ],
      "outputs": [
        {
          "output_type": "stream",
          "name": "stdout",
          "text": [
            "[[1. 0.]\n",
            " [0. 1.]]\n"
          ]
        }
      ],
      "metadata": {
        "id": "cd_6oNZFOJR_",
        "outputId": "bae23a45-0fbb-4325-96b7-f1db49996997",
        "colab": {
          "base_uri": "https://localhost:8080/"
        }
      },
      "execution_count": 46
    },
    {
      "cell_type": "code",
      "source": [
        "e = np.random.random((2,2)) # Create an array filled with random values\n",
        "print (e)"
      ],
      "outputs": [
        {
          "output_type": "stream",
          "name": "stdout",
          "text": [
            "[[0.92449453 0.99063543]\n",
            " [0.56832754 0.01007506]]\n"
          ]
        }
      ],
      "metadata": {
        "id": "B9kYzM5TOJR_",
        "outputId": "8b604712-9107-4817-c762-6154f48c81a0",
        "colab": {
          "base_uri": "https://localhost:8080/"
        }
      },
      "execution_count": 47
    },
    {
      "cell_type": "markdown",
      "source": [
        "###Array indexing"
      ],
      "metadata": {
        "id": "epyH8vngOJR_"
      }
    },
    {
      "cell_type": "markdown",
      "source": [
        "Numpy offers several ways to index into arrays."
      ],
      "metadata": {
        "id": "OVUf9l22OJR_"
      }
    },
    {
      "cell_type": "markdown",
      "source": [
        "Slicing: Similar to Python lists, numpy arrays can be sliced. Since arrays may be multidimensional, you must specify a slice for each dimension of the array:"
      ],
      "metadata": {
        "id": "Yj2nZiT4OJR_"
      }
    },
    {
      "cell_type": "code",
      "source": [
        "import numpy as np\n",
        "\n",
        "# Create the following rank 2 array with shape (3, 4)\n",
        "# [[ 1  2  3  4]\n",
        "#  [ 5  6  7  8]\n",
        "#  [ 9 10 11 12]]\n",
        "a = np.array([[1,2,3,4], [5,6,7,8], [9,10,11,12]])\n",
        "\n",
        "# Use slicing to pull out the subarray consisting of the first 2 rows\n",
        "# and columns 1 and 2; b is the following array of shape (2, 2):\n",
        "# [[2 3]\n",
        "#  [6 7]]\n",
        "b = a[0:2, 1:3]\n",
        "print (b)"
      ],
      "outputs": [
        {
          "output_type": "stream",
          "name": "stdout",
          "text": [
            "[[2 3]\n",
            " [6 7]]\n"
          ]
        }
      ],
      "metadata": {
        "id": "cch3T8qjOJR_",
        "outputId": "0b6403ec-4d67-41b9-85bf-a0bf34960a50",
        "colab": {
          "base_uri": "https://localhost:8080/"
        }
      },
      "execution_count": 48
    },
    {
      "cell_type": "markdown",
      "source": [
        "A slice of an array is a view into the same data, so modifying it will modify the original array."
      ],
      "metadata": {
        "id": "xGaORP2ZOJR_"
      }
    },
    {
      "cell_type": "code",
      "source": [
        "print (a[0, 1])\n",
        "b[0, 0] = 77    # b[0, 0] is the same piece of data as a[0, 1]\n",
        "print (a[0, 1])"
      ],
      "outputs": [
        {
          "output_type": "stream",
          "name": "stdout",
          "text": [
            "2\n",
            "77\n"
          ]
        }
      ],
      "metadata": {
        "id": "4_QM9EcMOJR_",
        "outputId": "9839dd67-e46f-447f-e668-bd8dda8ea1bf",
        "colab": {
          "base_uri": "https://localhost:8080/"
        }
      },
      "execution_count": 50
    },
    {
      "cell_type": "markdown",
      "source": [
        "You can also mix integer indexing with slice indexing. However, doing so will yield an array of lower rank than the original array. Note that this is quite different from the way that MATLAB handles array slicing:"
      ],
      "metadata": {
        "id": "uOiio6niOJR_"
      }
    },
    {
      "cell_type": "code",
      "source": [
        "# Create the following rank 2 array with shape (3, 4)\n",
        "a = np.array([[1,2,3,4], [5,6,7,8], [9,10,11,12]])\n",
        "print (a)"
      ],
      "outputs": [
        {
          "output_type": "stream",
          "name": "stdout",
          "text": [
            "[[ 1  2  3  4]\n",
            " [ 5  6  7  8]\n",
            " [ 9 10 11 12]]\n"
          ]
        }
      ],
      "metadata": {
        "id": "WzxVTiUqOJR_",
        "outputId": "b33156ab-6b11-4ee1-e5a6-d90ec5ea97e2",
        "colab": {
          "base_uri": "https://localhost:8080/"
        }
      },
      "execution_count": 51
    },
    {
      "cell_type": "markdown",
      "source": [
        "Two ways of accessing the data in the middle row of the array.\n",
        "Mixing integer indexing with slices yields an array of lower rank,\n",
        "while using only slices yields an array of the same rank as the\n",
        "original array:"
      ],
      "metadata": {
        "id": "Hv8BV4pOOJR_"
      }
    },
    {
      "cell_type": "code",
      "source": [
        "row_r1 = a[1, :]    # Rank 1 view of the second row of a\n",
        "row_r2 = a[1:2, :]  # Rank 2 view of the second row of a\n",
        "row_r3 = a[[1], :]  # Rank 2 view of the second row of a\n",
        "print (row_r1, row_r1.shape)\n",
        "print (row_r2, row_r2.shape)\n",
        "print (row_r3, row_r3.shape)"
      ],
      "outputs": [
        {
          "output_type": "stream",
          "name": "stdout",
          "text": [
            "[5 6 7 8] (4,)\n",
            "[[5 6 7 8]] (1, 4)\n",
            "[[5 6 7 8]] (1, 4)\n"
          ]
        }
      ],
      "metadata": {
        "id": "XKgwAIqOOJR_",
        "outputId": "963af9e4-2e47-44cc-d77f-965f82270a76",
        "colab": {
          "base_uri": "https://localhost:8080/"
        }
      },
      "execution_count": 52
    },
    {
      "cell_type": "code",
      "source": [
        "# We can make the same distinction when accessing columns of an array:\n",
        "col_r1 = a[:, 1]\n",
        "col_r2 = a[:, 1:2]\n",
        "print (col_r1, col_r1.shape)\n",
        "print\n",
        "print (col_r2, col_r2.shape)"
      ],
      "outputs": [
        {
          "output_type": "stream",
          "name": "stdout",
          "text": [
            "[ 2  6 10] (3,)\n",
            "[[ 2]\n",
            " [ 6]\n",
            " [10]] (3, 1)\n"
          ]
        }
      ],
      "metadata": {
        "id": "5kCz_WlSOJR_",
        "outputId": "c5325623-5625-4b52-8d24-7556cd0a544f",
        "colab": {
          "base_uri": "https://localhost:8080/"
        }
      },
      "execution_count": 53
    },
    {
      "cell_type": "markdown",
      "source": [
        "Integer array indexing: When you index into numpy arrays using slicing, the resulting array view will always be a subarray of the original array. In contrast, integer array indexing allows you to construct arbitrary arrays using the data from another array. Here is an example:"
      ],
      "metadata": {
        "id": "67urfmnkOJR_"
      }
    },
    {
      "cell_type": "code",
      "source": [
        "a = np.array([[1,2], [3, 4], [5, 6]])\n",
        "\n",
        "# An example of integer array indexing.\n",
        "# The returned array will have shape (3,) and\n",
        "print (a[[0, 1, 2], [0, 1, 0]])\n",
        "\n",
        "# The above example of integer array indexing is equivalent to this:\n",
        "print (np.array([a[0, 0], a[1, 1], a[2, 0]]))"
      ],
      "outputs": [
        {
          "output_type": "stream",
          "name": "stdout",
          "text": [
            "[1 4 5]\n",
            "[1 4 5]\n"
          ]
        }
      ],
      "metadata": {
        "id": "u2luBLzcOJSA",
        "outputId": "db10aa11-69b4-4a9d-fd44-87e989ff4d11",
        "colab": {
          "base_uri": "https://localhost:8080/"
        }
      },
      "execution_count": 54
    },
    {
      "cell_type": "code",
      "source": [
        "# When using integer array indexing, you can reuse the same\n",
        "# element from the source array:\n",
        "print (a[[0, 0], [1, 1]])\n",
        "\n",
        "# Equivalent to the previous integer array indexing example\n",
        "print (np.array([a[0, 1], a[0, 1]]))"
      ],
      "outputs": [
        {
          "output_type": "stream",
          "name": "stdout",
          "text": [
            "[2 2]\n",
            "[2 2]\n"
          ]
        }
      ],
      "metadata": {
        "id": "LtBR6KjSOJSA",
        "outputId": "b4c273ea-a0d4-4f03-8080-d77ae0d2e003",
        "colab": {
          "base_uri": "https://localhost:8080/"
        }
      },
      "execution_count": 55
    },
    {
      "cell_type": "markdown",
      "source": [
        "One useful trick with integer array indexing is selecting or mutating one element from each row of a matrix:"
      ],
      "metadata": {
        "id": "PMynNXdJOJSA"
      }
    },
    {
      "cell_type": "code",
      "source": [
        "# Create a new array from which we will select elements\n",
        "a = np.array([[1,2,3], [4,5,6], [7,8,9], [10, 11, 12]])\n",
        "print (a)"
      ],
      "outputs": [
        {
          "output_type": "stream",
          "name": "stdout",
          "text": [
            "[[ 1  2  3]\n",
            " [ 4  5  6]\n",
            " [ 7  8  9]\n",
            " [10 11 12]]\n"
          ]
        }
      ],
      "metadata": {
        "id": "xB7gdpElOJSA",
        "outputId": "6968c15e-11a4-4660-e4a6-188c4efc2693",
        "colab": {
          "base_uri": "https://localhost:8080/"
        }
      },
      "execution_count": 56
    },
    {
      "cell_type": "code",
      "source": [
        "# Create an array of indices\n",
        "b = np.array([0, 2, 0, 1])\n",
        "\n",
        "# Select one element from each row of a using the indices in b\n",
        "print (a[np.arange(4), b])  # Prints \"[ 1  6  7 11]\""
      ],
      "outputs": [
        {
          "output_type": "stream",
          "name": "stdout",
          "text": [
            "[ 1  6  7 11]\n"
          ]
        }
      ],
      "metadata": {
        "id": "YcsuxXCPOJSA",
        "outputId": "c6d54be7-e688-4853-bcd3-cd53c8196303",
        "colab": {
          "base_uri": "https://localhost:8080/"
        }
      },
      "execution_count": 58
    },
    {
      "cell_type": "code",
      "source": [
        "# Mutate one element from each row of a using the indices in b\n",
        "a[np.arange(4), b] += 10\n",
        "print (a)"
      ],
      "outputs": [
        {
          "output_type": "stream",
          "name": "stdout",
          "text": [
            "[[11  2  3]\n",
            " [ 4  5 16]\n",
            " [17  8  9]\n",
            " [10 21 12]]\n"
          ]
        }
      ],
      "metadata": {
        "id": "N1-WRT_POJSA",
        "outputId": "9147ec97-0dc9-4a05-c676-589abbf7aab2",
        "colab": {
          "base_uri": "https://localhost:8080/"
        }
      },
      "execution_count": 59
    },
    {
      "cell_type": "markdown",
      "source": [
        "Boolean array indexing: Boolean array indexing lets you pick out arbitrary elements of an array. Frequently this type of indexing is used to select the elements of an array that satisfy some condition. Here is an example:"
      ],
      "metadata": {
        "id": "ZxXkIlOGOJSA"
      }
    },
    {
      "cell_type": "code",
      "source": [
        "import numpy as np\n",
        "\n",
        "a = np.array([[1,2], [3, 4], [5, 6]])\n",
        "\n",
        "bool_idx = (a > 2)  # Find the elements of a that are bigger than 2;\n",
        "                    # this returns a numpy array of Booleans of the same\n",
        "                    # shape as a, where each slot of bool_idx tells\n",
        "                    # whether that element of a is > 2.\n",
        "\n",
        "print (bool_idx)"
      ],
      "outputs": [
        {
          "output_type": "stream",
          "name": "stdout",
          "text": [
            "[[False False]\n",
            " [ True  True]\n",
            " [ True  True]]\n"
          ]
        }
      ],
      "metadata": {
        "id": "kxocfkcZOJSA",
        "outputId": "8f8233cf-39ee-4aa8-fc03-80468d9150ed",
        "colab": {
          "base_uri": "https://localhost:8080/"
        }
      },
      "execution_count": 60
    },
    {
      "cell_type": "code",
      "source": [
        "# We use boolean array indexing to construct a rank 1 array\n",
        "# consisting of the elements of a corresponding to the True values\n",
        "# of bool_idx\n",
        "print (a[bool_idx])\n",
        "\n",
        "# We can do all of the above in a single concise statement:\n",
        "print (a[a > 2])"
      ],
      "outputs": [
        {
          "output_type": "stream",
          "name": "stdout",
          "text": [
            "[3 4 5 6]\n",
            "[3 4 5 6]\n"
          ]
        }
      ],
      "metadata": {
        "id": "-0mtB6QXOJSA",
        "outputId": "51d9cf7e-f392-4993-ddf0-347dd06f6801",
        "colab": {
          "base_uri": "https://localhost:8080/"
        }
      },
      "execution_count": 62
    },
    {
      "cell_type": "markdown",
      "source": [
        "For brevity we have left out a lot of details about numpy array indexing; if you want to know more you should read the documentation."
      ],
      "metadata": {
        "id": "HJq_8HWZOJSA"
      }
    },
    {
      "cell_type": "markdown",
      "source": [
        "###Datatypes"
      ],
      "metadata": {
        "id": "mAybLc_SOJSA"
      }
    },
    {
      "cell_type": "markdown",
      "source": [
        "Every numpy array is a grid of elements of the same type. Numpy provides a large set of numeric datatypes that you can use to construct arrays. Numpy tries to guess a datatype when you create an array, but functions that construct arrays usually also include an optional argument to explicitly specify the datatype. Here is an example:"
      ],
      "metadata": {
        "id": "cPpzbStQOJSA"
      }
    },
    {
      "cell_type": "code",
      "source": [
        "x = np.array([1, 2])  # Let numpy choose the datatype\n",
        "y = np.array([1.0, 2.0])  # Let numpy choose the datatype\n",
        "z = np.array([1, 2], dtype=np.int64)  # Force a particular datatype\n",
        "\n",
        "print (x.dtype, y.dtype, z.dtype)"
      ],
      "outputs": [
        {
          "output_type": "stream",
          "name": "stdout",
          "text": [
            "int64 float64 int64\n"
          ]
        }
      ],
      "metadata": {
        "id": "fhuUF4vROJSA",
        "outputId": "15f932fc-7fe2-4828-fc5a-2431b204237d",
        "colab": {
          "base_uri": "https://localhost:8080/"
        }
      },
      "execution_count": 63
    },
    {
      "cell_type": "markdown",
      "source": [
        "You can read all about numpy datatypes in the [documentation](http://docs.scipy.org/doc/numpy/reference/arrays.dtypes.html)."
      ],
      "metadata": {
        "id": "-zhtkhuYOJSA"
      }
    },
    {
      "cell_type": "markdown",
      "source": [
        "###Array math"
      ],
      "metadata": {
        "id": "gtH9mlfsOJSA"
      }
    },
    {
      "cell_type": "markdown",
      "source": [
        "Basic mathematical functions operate elementwise on arrays, and are available both as operator overloads and as functions in the numpy module:"
      ],
      "metadata": {
        "id": "kmQSJqCEOJSA"
      }
    },
    {
      "cell_type": "code",
      "source": [
        "x = np.array([[1,2],[3,4]], dtype=np.float64)\n",
        "y = np.array([[5,6],[7,8]], dtype=np.float64)\n",
        "\n",
        "# Elementwise sum; both produce the array\n",
        "print (x + y)\n",
        "print (np.add(x, y))"
      ],
      "outputs": [
        {
          "output_type": "stream",
          "name": "stdout",
          "text": [
            "[[ 6.  8.]\n",
            " [10. 12.]]\n",
            "[[ 6.  8.]\n",
            " [10. 12.]]\n"
          ]
        }
      ],
      "metadata": {
        "id": "Cnv23fjiOJSA",
        "outputId": "9f0b3b6f-6a6e-4e6a-974e-d0b095eef617",
        "colab": {
          "base_uri": "https://localhost:8080/"
        }
      },
      "execution_count": 64
    },
    {
      "cell_type": "code",
      "source": [
        "# Elementwise difference; both produce the array\n",
        "print (x - y)\n",
        "print (np.subtract(x, y))"
      ],
      "outputs": [
        {
          "output_type": "stream",
          "name": "stdout",
          "text": [
            "[[-4. -4.]\n",
            " [-4. -4.]]\n",
            "[[-4. -4.]\n",
            " [-4. -4.]]\n"
          ]
        }
      ],
      "metadata": {
        "id": "t7Vl3bmhOJSA",
        "outputId": "89513a62-bb45-43fd-9f0b-5b6774294cea",
        "colab": {
          "base_uri": "https://localhost:8080/"
        }
      },
      "execution_count": 65
    },
    {
      "cell_type": "code",
      "source": [
        "# Elementwise product; both produce the array\n",
        "print (x * y)\n",
        "print (np.multiply(x, y))"
      ],
      "outputs": [
        {
          "output_type": "stream",
          "name": "stdout",
          "text": [
            "[[ 5. 12.]\n",
            " [21. 32.]]\n",
            "[[ 5. 12.]\n",
            " [21. 32.]]\n"
          ]
        }
      ],
      "metadata": {
        "id": "wtG-hZw9OJSB",
        "outputId": "1ccaba46-1fac-4ef5-c4d8-a0c79478951e",
        "colab": {
          "base_uri": "https://localhost:8080/"
        }
      },
      "execution_count": 66
    },
    {
      "cell_type": "code",
      "source": [
        "# Elementwise division; both produce the array\n",
        "# [[ 0.2         0.33333333]\n",
        "#  [ 0.42857143  0.5       ]]\n",
        "print (x / y)\n",
        "print (np.divide(x, y))"
      ],
      "outputs": [
        {
          "output_type": "stream",
          "name": "stdout",
          "text": [
            "[[0.5        1.         0.75      ]\n",
            " [0.8        1.         0.85714286]\n",
            " [0.875      1.         0.9       ]\n",
            " [0.90909091 1.         0.92307692]]\n",
            "[[0.5        1.         0.75      ]\n",
            " [0.8        1.         0.85714286]\n",
            " [0.875      1.         0.9       ]\n",
            " [0.90909091 1.         0.92307692]]\n"
          ]
        }
      ],
      "metadata": {
        "id": "JaIcphRXOJSB",
        "outputId": "49be1359-6f54-4bc3-9a3c-972a363fb481",
        "colab": {
          "base_uri": "https://localhost:8080/"
        }
      },
      "execution_count": 72
    },
    {
      "cell_type": "code",
      "source": [
        "# Elementwise square root; produces the array\n",
        "# [[ 1.          1.41421356]\n",
        "#  [ 1.73205081  2.        ]]\n",
        "print (np.sqrt(x))"
      ],
      "outputs": [
        {
          "output_type": "stream",
          "name": "stdout",
          "text": [
            "[[1.         1.41421356 1.73205081]\n",
            " [2.         2.23606798 2.44948974]\n",
            " [2.64575131 2.82842712 3.        ]\n",
            " [3.16227766 3.31662479 3.46410162]]\n"
          ]
        }
      ],
      "metadata": {
        "id": "HU3StW5uOJSB",
        "outputId": "145b3395-db9b-4514-df6a-8e92f1211a3c",
        "colab": {
          "base_uri": "https://localhost:8080/"
        }
      },
      "execution_count": 73
    },
    {
      "cell_type": "markdown",
      "source": [
        "Note that unlike MATLAB, `*` is elementwise multiplication, not matrix multiplication. We instead use the dot function to compute inner products of vectors, to multiply a vector by a matrix, and to multiply matrices. dot is available both as a function in the numpy module and as an instance method of array objects:"
      ],
      "metadata": {
        "id": "DgimLqX5OJSB"
      }
    },
    {
      "cell_type": "code",
      "source": [
        "x = np.array([[1,2],[3,4]])\n",
        "y = np.array([[5,6],[7,8]])\n",
        "\n",
        "v = np.array([9,10])\n",
        "w = np.array([11, 12])\n",
        "\n",
        "# Inner product of vectors; both produce 219\n",
        "print (v.dot(w))\n",
        "print (np.dot(v, w))"
      ],
      "outputs": [
        {
          "output_type": "stream",
          "name": "stdout",
          "text": [
            "219\n",
            "219\n"
          ]
        }
      ],
      "metadata": {
        "id": "xuJ7knBvOJSB",
        "outputId": "a37aad02-242d-4aa2-dd35-74d8c4f6cb6b",
        "colab": {
          "base_uri": "https://localhost:8080/"
        }
      },
      "execution_count": 74
    },
    {
      "cell_type": "code",
      "source": [
        "# Matrix / vector product; both produce the rank 1 array [29 67]\n",
        "print (x.dot(v))\n",
        "print (np.dot(x, v))"
      ],
      "outputs": [
        {
          "output_type": "stream",
          "name": "stdout",
          "text": [
            "[29 67]\n",
            "[29 67]\n"
          ]
        }
      ],
      "metadata": {
        "id": "7n867JYJOJSB",
        "outputId": "38db6b0a-b58a-4f32-9596-bf63bce1f7a4",
        "colab": {
          "base_uri": "https://localhost:8080/"
        }
      },
      "execution_count": 75
    },
    {
      "cell_type": "code",
      "source": [
        "# Matrix / matrix product; both produce the rank 2 array\n",
        "# [[19 22]\n",
        "#  [43 50]]\n",
        "print (x.dot(y))\n",
        "print (np.dot(x, y))"
      ],
      "outputs": [
        {
          "output_type": "stream",
          "name": "stdout",
          "text": [
            "[[19 22]\n",
            " [43 50]]\n",
            "[[19 22]\n",
            " [43 50]]\n"
          ]
        }
      ],
      "metadata": {
        "id": "D8fdpkV3OJSB",
        "outputId": "8495a57a-5e82-4c32-ca6c-e2112b3b4e97",
        "colab": {
          "base_uri": "https://localhost:8080/"
        }
      },
      "execution_count": 76
    },
    {
      "cell_type": "markdown",
      "source": [
        "Numpy provides many useful functions for performing computations on arrays; one of the most useful is `sum`:"
      ],
      "metadata": {
        "id": "0Yncsw2yOJSB"
      }
    },
    {
      "cell_type": "code",
      "source": [
        "x = np.array([[1,2],[3,4]])\n",
        "\n",
        "print np.sum(x)  # Compute sum of all elements; prints \"10\"\n",
        "print np.sum(x, axis=0)  # Compute sum of each column; prints \"[4 6]\"\n",
        "print np.sum(x, axis=1)  # Compute sum of each row; prints \"[3 7]\""
      ],
      "outputs": [
        {
          "output_type": "stream",
          "text": [
            "10\n",
            "[4 6]\n",
            "[3 7]\n"
          ],
          "name": "stdout"
        }
      ],
      "metadata": {
        "id": "oNiEtyopOJSB",
        "outputId": "a5abf375-dffa-4fa9-acc6-42319eab8998"
      },
      "execution_count": null
    },
    {
      "cell_type": "markdown",
      "source": [
        "You can find the full list of mathematical functions provided by numpy in the [documentation](http://docs.scipy.org/doc/numpy/reference/routines.math.html).\n",
        "\n",
        "Apart from computing mathematical functions using arrays, we frequently need to reshape or otherwise manipulate data in arrays. The simplest example of this type of operation is transposing a matrix; to transpose a matrix, simply use the T attribute of an array object:"
      ],
      "metadata": {
        "id": "mTcuVj4-OJSB"
      }
    },
    {
      "cell_type": "code",
      "source": [
        "print x\n",
        "print x.T"
      ],
      "outputs": [
        {
          "output_type": "stream",
          "text": [
            "[[1 2]\n",
            " [3 4]]\n",
            "[[1 3]\n",
            " [2 4]]\n"
          ],
          "name": "stdout"
        }
      ],
      "metadata": {
        "id": "Bvdba99NOJSB",
        "outputId": "bd8b6bbd-f1ff-4cc4-da67-d792173760db"
      },
      "execution_count": null
    },
    {
      "cell_type": "code",
      "source": [
        "v = np.array([[1,2,3]])\n",
        "print (v)\n",
        "print (v.T)"
      ],
      "outputs": [
        {
          "output_type": "stream",
          "name": "stdout",
          "text": [
            "[[1 2 3]]\n",
            "[[1]\n",
            " [2]\n",
            " [3]]\n"
          ]
        }
      ],
      "metadata": {
        "id": "ym8vhnspOJSB",
        "outputId": "a9115e6f-6581-469d-b97f-41db8863d873",
        "colab": {
          "base_uri": "https://localhost:8080/"
        }
      },
      "execution_count": 69
    },
    {
      "cell_type": "markdown",
      "source": [
        "###Broadcasting"
      ],
      "metadata": {
        "id": "Oz_5uJ7kOJSB"
      }
    },
    {
      "cell_type": "markdown",
      "source": [
        "Broadcasting is a powerful mechanism that allows numpy to work with arrays of different shapes when performing arithmetic operations. Frequently we have a smaller array and a larger array, and we want to use the smaller array multiple times to perform some operation on the larger array.\n",
        "\n",
        "For example, suppose that we want to add a constant vector to each row of a matrix. We could do it like this:"
      ],
      "metadata": {
        "id": "NDN_-gPEOJSB"
      }
    },
    {
      "cell_type": "code",
      "source": [
        "# We will add the vector v to each row of the matrix x,\n",
        "# storing the result in the matrix y\n",
        "x = np.array([[1,2,3], [4,5,6], [7,8,9], [10, 11, 12]])\n",
        "v = np.array([1, 0, 1])\n",
        "y = np.empty_like(x)   # Create an empty matrix with the same shape as x\n",
        "\n",
        "# Add the vector v to each row of the matrix x with an explicit loop\n",
        "for i in range(4):\n",
        "    y[i, :] = x[i, :] + v\n",
        "\n",
        "print (y)"
      ],
      "outputs": [
        {
          "output_type": "stream",
          "name": "stdout",
          "text": [
            "[[ 2  2  4]\n",
            " [ 5  5  7]\n",
            " [ 8  8 10]\n",
            " [11 11 13]]\n"
          ]
        }
      ],
      "metadata": {
        "id": "ClnVktpBOJSB",
        "outputId": "8edda72c-2597-44ef-f2fc-58cb68be8049",
        "colab": {
          "base_uri": "https://localhost:8080/"
        }
      },
      "execution_count": 67
    },
    {
      "cell_type": "markdown",
      "source": [
        "This works; however when the matrix `x` is very large, computing an explicit loop in Python could be slow. Note that adding the vector v to each row of the matrix `x` is equivalent to forming a matrix `vv` by stacking multiple copies of `v` vertically, then performing elementwise summation of `x` and `vv`. We could implement this approach like this:"
      ],
      "metadata": {
        "id": "DRpShBGAOJSB"
      }
    },
    {
      "cell_type": "code",
      "source": [
        "vv = np.tile(v, (4, 1))  # Stack 4 copies of v on top of each other\n",
        "print (vv)                 # Prints \"[[1 0 1]\n",
        "                         #          [1 0 1]\n",
        "                         #          [1 0 1]\n",
        "                         #          [1 0 1]]\""
      ],
      "outputs": [
        {
          "output_type": "stream",
          "name": "stdout",
          "text": [
            "[[1 0 1]\n",
            " [1 0 1]\n",
            " [1 0 1]\n",
            " [1 0 1]]\n"
          ]
        }
      ],
      "metadata": {
        "id": "1xxSse08OJSB",
        "outputId": "5b0f8108-ee0d-4f27-b406-49821cf2d303",
        "colab": {
          "base_uri": "https://localhost:8080/"
        }
      },
      "execution_count": 68
    },
    {
      "cell_type": "code",
      "source": [
        "y = x + vv  # Add x and vv elementwise\n",
        "print (y)"
      ],
      "outputs": [
        {
          "output_type": "stream",
          "name": "stdout",
          "text": [
            "[[ 2  2  4]\n",
            " [ 5  5  7]\n",
            " [ 8  8 10]\n",
            " [11 11 13]]\n"
          ]
        }
      ],
      "metadata": {
        "id": "Aij8osvvOJSC",
        "outputId": "8d0c6504-ba2b-477f-dad6-0dbdfb55665f",
        "colab": {
          "base_uri": "https://localhost:8080/"
        }
      },
      "execution_count": 70
    },
    {
      "cell_type": "markdown",
      "source": [
        "Numpy broadcasting allows us to perform this computation without actually creating multiple copies of v. Consider this version, using broadcasting:"
      ],
      "metadata": {
        "id": "0seg8da0OJSC"
      }
    },
    {
      "cell_type": "code",
      "source": [
        "import numpy as np\n",
        "\n",
        "# We will add the vector v to each row of the matrix x,\n",
        "# storing the result in the matrix y\n",
        "x = np.array([[1,2,3], [4,5,6], [7,8,9], [10, 11, 12]])\n",
        "v = np.array([1, 0, 1])\n",
        "y = x + v  # Add v to each row of x using broadcasting\n",
        "print (y)"
      ],
      "outputs": [
        {
          "output_type": "stream",
          "name": "stdout",
          "text": [
            "[[ 2  2  4]\n",
            " [ 5  5  7]\n",
            " [ 8  8 10]\n",
            " [11 11 13]]\n"
          ]
        }
      ],
      "metadata": {
        "id": "FGYq0jATOJSC",
        "outputId": "0e03063a-7f3d-43b6-b446-f228e784de47",
        "colab": {
          "base_uri": "https://localhost:8080/"
        }
      },
      "execution_count": 71
    }
  ]
}